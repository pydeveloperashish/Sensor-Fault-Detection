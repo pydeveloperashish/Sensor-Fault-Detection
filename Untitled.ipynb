{
 "cells": [
  {
   "cell_type": "code",
   "execution_count": 17,
   "id": "b53d4873",
   "metadata": {},
   "outputs": [],
   "source": [
    "value= 2_0_0\n",
    "value = str(value)"
   ]
  },
  {
   "cell_type": "code",
   "execution_count": 21,
   "id": "0aec3157",
   "metadata": {},
   "outputs": [
    {
     "data": {
      "text/plain": [
       "'200'"
      ]
     },
     "execution_count": 21,
     "metadata": {},
     "output_type": "execute_result"
    }
   ],
   "source": [
    "value.strip(\" _ \")"
   ]
  },
  {
   "cell_type": "code",
   "execution_count": 23,
   "id": "d75c4ae5",
   "metadata": {},
   "outputs": [],
   "source": [
    "import os\n",
    "SAVED_MODEL_DIR = os.path.join(\"saved_models\")"
   ]
  },
  {
   "cell_type": "code",
   "execution_count": 30,
   "id": "3721a1de",
   "metadata": {},
   "outputs": [],
   "source": [
    "timestamps = list(os.listdir(SAVED_MODEL_DIR))\n",
    "latest_timestamp = max(timestamps)"
   ]
  },
  {
   "cell_type": "code",
   "execution_count": 31,
   "id": "95d2bbac",
   "metadata": {},
   "outputs": [
    {
     "data": {
      "text/plain": [
       "'2022_11_19_12_12_44'"
      ]
     },
     "execution_count": 31,
     "metadata": {},
     "output_type": "execute_result"
    }
   ],
   "source": [
    "latest_timestamp"
   ]
  },
  {
   "cell_type": "code",
   "execution_count": null,
   "id": "bda23d1d",
   "metadata": {},
   "outputs": [],
   "source": []
  }
 ],
 "metadata": {
  "kernelspec": {
   "display_name": "Python 3 (ipykernel)",
   "language": "python",
   "name": "python3"
  },
  "language_info": {
   "codemirror_mode": {
    "name": "ipython",
    "version": 3
   },
   "file_extension": ".py",
   "mimetype": "text/x-python",
   "name": "python",
   "nbconvert_exporter": "python",
   "pygments_lexer": "ipython3",
   "version": "3.9.7"
  }
 },
 "nbformat": 4,
 "nbformat_minor": 5
}
